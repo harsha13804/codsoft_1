{
  "nbformat": 4,
  "nbformat_minor": 0,
  "metadata": {
    "colab": {
      "provenance": [],
      "authorship_tag": "ABX9TyNaTnqSLGC1RJqqofSQfxt7"
    },
    "kernelspec": {
      "name": "python3",
      "display_name": "Python 3"
    },
    "language_info": {
      "name": "python"
    }
  },
  "cells": [
    {
      "cell_type": "code",
      "execution_count": null,
      "metadata": {
        "colab": {
          "base_uri": "https://localhost:8080/"
        },
        "id": "3OBCR53OqH98",
        "outputId": "51928fa3-d7e9-4f02-e484-2ad44b1ca680"
      },
      "outputs": [
        {
          "output_type": "stream",
          "name": "stdout",
          "text": [
            "Chatbot: Hello! How can I help you today?\n",
            "You: hello\n",
            "Chatbot:  Hello! How can I help you today?\n",
            "You: what is your name\n",
            "Chatbot:  My name is ChatBot.\n",
            "You: what can you do\n",
            "Chatbot:  I can chat with you and guide you.\n",
            "You: what is your purpose\n",
            "Chatbot:  My purpose is to assist you and answering your questions \n",
            "You: nice to meet you\n",
            "Chatbot:  Nice to meet you too! How can I help you?\n",
            "You: tq\n",
            "Chatbot:  I'm sorry,I do not understand.Can you please rephrase your sentence?\n",
            "You: thankyou\n",
            "Chatbot:  Is there anything ,I can help you with?\n",
            "You: exit\n",
            "Chatbot:  Bye! Take care and have a great day!\n"
          ]
        }
      ],
      "source": [
        "import re\n",
        "\n",
        "def response(user_input):\n",
        "    chats = {\n",
        "        \"Hi\": \"Hi there! I'm a friendly chatbot here to assist you?\",\n",
        "        \"Hey\": \"Hello! How can I assist you today?\",\n",
        "        \"Hello\": \"Hello! How can I help you today?\",\n",
        "        \"Who are you\": \"I'm a chatbot.\",\n",
        "        \"How are you\": \"I'm just a chatbot,but I'm here to assist you.\",\n",
        "        \"What is your name\": \"My name is ChatBot.\",\n",
        "        \"What can you do\": \"I can chat with you and guide you.\",\n",
        "        \"What is your purpose\": \"My purpose is to assist you and answering your questions \",\n",
        "        \"Thank you|Thankyou\": \"Is there anything ,I can help you with?\",\n",
        "        \"Nice to meet you\": \"Nice to meet you too! How can I help you?\",\n",
        "        \"Bye|Goodbye|Exit\": \"Bye! Take care and have a great day!\"\n",
        "    }\n",
        "\n",
        "    for pattern, response in chats.items():\n",
        "        if re.search(pattern, user_input, re.IGNORECASE):\n",
        "\n",
        "            return response\n",
        "    return \"I'm sorry,I do not understand.Can you please rephrase your sentence?\"\n",
        "\n",
        "def chatbot():\n",
        "    print(\"Chatbot: Hello! How can I help you today?\")\n",
        "\n",
        "    while True:\n",
        "        user_input = input(\"You: \")\n",
        "        if re.search(\"bye|goodbye|exit\", user_input, re.IGNORECASE):\n",
        "            print(\"Chatbot: \",response(user_input))\n",
        "            break\n",
        "        else:\n",
        "            print(\"Chatbot: \",response(user_input))\n",
        "\n",
        "chatbot()\n"
      ]
    }
  ]
}